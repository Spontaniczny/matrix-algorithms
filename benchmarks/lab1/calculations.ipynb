{
 "cells": [
  {
   "cell_type": "code",
   "execution_count": null,
   "metadata": {},
   "outputs": [],
   "source": [
    "using BenchmarkTools\n",
    "using MatrixAlgorithms\n",
    "using CSV, Tables\n",
    "# using Plot"
   ]
  },
  {
   "cell_type": "code",
   "execution_count": null,
   "metadata": {},
   "outputs": [],
   "source": [
    "function compute_total_times_binet(sizes, verbose=false)\n",
    "    times = []\n",
    "\n",
    "    for n in sizes\n",
    "\n",
    "        if verbose\n",
    "            print(\"Working on n = \", n)\n",
    "        end\n",
    "        \n",
    "        A, B = AugmentMatrix(Float64.(rand(n, n))), AugmentMatrix(Float64.(rand(n, n)))\n",
    "        bench = @benchmark Binet($A, $B)\n",
    "        # print(mean(bench).time / 10e5)\n",
    "        compute_time = round(mean(bench).time / 10e5)\n",
    "        \n",
    "        \n",
    "        if verbose\n",
    "            println(\"\")\n",
    "        end            \n",
    "\n",
    "        data_point = (size=n, operation_time=compute_time)\n",
    "        push!(times, data_point)\n",
    "    end\n",
    "    return times\n",
    "end\n",
    "\n",
    "function compute_total_times_binet(sizes, verbose=false)\n",
    "    times = []\n",
    "\n",
    "    for n in sizes\n",
    "\n",
    "        if verbose\n",
    "            print(\"Working on n = \", n)\n",
    "        end\n",
    "        \n",
    "        A, B = AugmentMatrix(Float64.(rand(n, n))), AugmentMatrix(Float64.(rand(n, n)))\n",
    "        bench = @benchmark Binet($A, $B)\n",
    "        # print(mean(bench).time / 10e5)\n",
    "        compute_time = round(mean(bench).time / 10e5)\n",
    "        \n",
    "        \n",
    "        if verbose\n",
    "            println(\"\")\n",
    "        end            \n",
    "\n",
    "        data_point = (size=n, operation_time=compute_time)\n",
    "        push!(times, data_point)\n",
    "    end\n",
    "    return times\n",
    "end\n",
    "\n",
    "function times_to_csv(times, filepath)\n",
    "    sizes = map(op -> op.size, times)\n",
    "    op_times = map(op -> op.operation_time, times)\n",
    "    \n",
    "    for data_point in times\n",
    "        CSV.write(filepath, (size = sizes, time = op_times))\n",
    "    end\n",
    "end"
   ]
  },
  {
   "cell_type": "code",
   "execution_count": null,
   "metadata": {},
   "outputs": [],
   "source": [
    "times = compute_total_times_binet(1:256, true)\n",
    "times_to_csv(times, \"binet\\\\times.csv\")"
   ]
  },
  {
   "cell_type": "code",
   "execution_count": null,
   "metadata": {},
   "outputs": [],
   "source": [
    "times2 = compute_total_times_binet(1:256, true)\n",
    "times_to_csv(times2, \"binet\\\\times.csv\")"
   ]
  }
 ],
 "metadata": {
  "kernelspec": {
   "display_name": "Julia 1.9.3",
   "language": "julia",
   "name": "julia-1.9"
  },
  "language_info": {
   "file_extension": ".jl",
   "mimetype": "application/julia",
   "name": "julia",
   "version": "1.9.3"
  }
 },
 "nbformat": 4,
 "nbformat_minor": 2
}
